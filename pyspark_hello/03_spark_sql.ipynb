{
 "cells": [
  {
   "cell_type": "code",
   "execution_count": 1,
   "id": "1cf56ecf-4766-45f8-af2a-dee77baef202",
   "metadata": {},
   "outputs": [],
   "source": [
    "from pyspark.sql import SparkSession\n"
   ]
  },
  {
   "cell_type": "code",
   "execution_count": 2,
   "id": "1634abfd-04a5-4314-9975-66c91eb7fd60",
   "metadata": {},
   "outputs": [
    {
     "name": "stderr",
     "output_type": "stream",
     "text": [
      "25/05/08 14:38:46 WARN Utils: Your hostname, DESKTOP-3F8M06L resolves to a loopback address: 127.0.1.1; using 192.168.0.8 instead (on interface eth0)\n",
      "25/05/08 14:38:46 WARN Utils: Set SPARK_LOCAL_IP if you need to bind to another address\n",
      "Setting default log level to \"WARN\".\n",
      "To adjust logging level use sc.setLogLevel(newLevel). For SparkR, use setLogLevel(newLevel).\n",
      "25/05/08 14:38:46 WARN NativeCodeLoader: Unable to load native-hadoop library for your platform... using builtin-java classes where applicable\n"
     ]
    }
   ],
   "source": [
    "spark = (\n",
    "    SparkSession\n",
    "    .builder\n",
    "    .master(\"local[1]\")\n",
    "    .appName(\"spark_SQL\")\n",
    "    .getOrCreate()\n",
    ")"
   ]
  },
  {
   "cell_type": "code",
   "execution_count": 3,
   "id": "0bc4b204-e683-4340-a01c-1fa4fae6a7e6",
   "metadata": {},
   "outputs": [],
   "source": [
    "df = (\n",
    "    spark\n",
    "    .read\n",
    "    .option('delimiter', ';')\n",
    "    .option('header', 'true')\n",
    "    .option('inferSchema', 'true')\n",
    "    .option('enconding', 'ISO-8859-1')\n",
    "    .csv('./dados/precos-gasolina-etanol-03.csv')\n",
    ")"
   ]
  },
  {
   "cell_type": "code",
   "execution_count": 4,
   "id": "0bc98829-82fd-4652-83a1-6dd3474afd7b",
   "metadata": {},
   "outputs": [
    {
     "name": "stdout",
     "output_type": "stream",
     "text": [
      "root\n",
      " |-- Regiao - Sigla: string (nullable = true)\n",
      " |-- Estado - Sigla: string (nullable = true)\n",
      " |-- Municipio: string (nullable = true)\n",
      " |-- Revenda: string (nullable = true)\n",
      " |-- CNPJ da Revenda: string (nullable = true)\n",
      " |-- Nome da Rua: string (nullable = true)\n",
      " |-- Numero Rua: string (nullable = true)\n",
      " |-- Complemento: string (nullable = true)\n",
      " |-- Bairro: string (nullable = true)\n",
      " |-- Cep: string (nullable = true)\n",
      " |-- Produto: string (nullable = true)\n",
      " |-- Data da Coleta: string (nullable = true)\n",
      " |-- Valor de Venda: string (nullable = true)\n",
      " |-- Valor de Compra: string (nullable = true)\n",
      " |-- Unidade de Medida: string (nullable = true)\n",
      " |-- Bandeira: string (nullable = true)\n",
      "\n"
     ]
    }
   ],
   "source": [
    "df.printSchema()"
   ]
  },
  {
   "cell_type": "code",
   "execution_count": 8,
   "id": "a2b21476-ef5f-48a3-b0cf-7f628d03b90c",
   "metadata": {},
   "outputs": [],
   "source": [
    "df.createOrReplaceTempView('combustiveis')"
   ]
  },
  {
   "cell_type": "code",
   "execution_count": 18,
   "id": "f1eadf5f-305d-4e51-9d9e-bc9472e8255a",
   "metadata": {},
   "outputs": [
    {
     "name": "stdout",
     "output_type": "stream",
     "text": [
      "+--------------+------------------+--------------+---------------+-----------------+\n",
      "|Estado - Sigla|           Produto|Valor de Venda|Valor de Compra|Unidade de Medida|\n",
      "+--------------+------------------+--------------+---------------+-----------------+\n",
      "|            SP|          GASOLINA|          5,65|           NULL|       R$ / litro|\n",
      "|            SP|            ETANOL|          3,78|           NULL|       R$ / litro|\n",
      "|            AL|          GASOLINA|          6,49|           NULL|       R$ / litro|\n",
      "|            AL|            ETANOL|          4,99|           NULL|       R$ / litro|\n",
      "|            AL|          GASOLINA|          6,49|           NULL|       R$ / litro|\n",
      "|            AL|GASOLINA ADITIVADA|          6,59|           NULL|       R$ / litro|\n",
      "|            AL|            ETANOL|          4,98|           NULL|       R$ / litro|\n",
      "|            AL|          GASOLINA|          6,29|           NULL|       R$ / litro|\n",
      "|            AL|            ETANOL|          4,79|           NULL|       R$ / litro|\n",
      "|            AL|          GASOLINA|          6,39|           NULL|       R$ / litro|\n",
      "+--------------+------------------+--------------+---------------+-----------------+\n",
      "only showing top 10 rows\n",
      "\n"
     ]
    }
   ],
   "source": [
    "spark.sql(\"\"\"\n",
    "    select `Estado - Sigla`, `Produto`, `Valor de Venda`,`Valor de Compra`, `Unidade de Medida` from combustiveis\n",
    "\"\"\").show(10)"
   ]
  },
  {
   "cell_type": "code",
   "execution_count": 21,
   "id": "8ff36d1f-ca18-4916-8058-50366986ac30",
   "metadata": {},
   "outputs": [
    {
     "name": "stdout",
     "output_type": "stream",
     "text": [
      "+--------------+--------------+---------+-------+---------------+-----------+----------+-----------+------+---+-------+--------------+--------------+---------------+-----------------+--------+\n",
      "|Regiao - Sigla|Estado - Sigla|Municipio|Revenda|CNPJ da Revenda|Nome da Rua|Numero Rua|Complemento|Bairro|Cep|Produto|Data da Coleta|Valor de Venda|Valor de Compra|Unidade de Medida|Bandeira|\n",
      "+--------------+--------------+---------+-------+---------------+-----------+----------+-----------+------+---+-------+--------------+--------------+---------------+-----------------+--------+\n",
      "+--------------+--------------+---------+-------+---------------+-----------+----------+-----------+------+---+-------+--------------+--------------+---------------+-----------------+--------+\n",
      "\n"
     ]
    }
   ],
   "source": [
    "spark.sql(\"\"\"\n",
    "    select * from combustiveis where `Valor de Compra` IS NOT NULL\n",
    "\"\"\"\n",
    "         ).show()"
   ]
  },
  {
   "cell_type": "code",
   "execution_count": 24,
   "id": "80ee1652-1347-48c2-8ec3-631a99c078d2",
   "metadata": {},
   "outputs": [],
   "source": [
    "view_precos = (\n",
    "    spark.sql(\"\"\"\n",
    "            select \n",
    "            `Estado - Sigla`, \n",
    "            `Produto`, \n",
    "             regexp_replace(`Valor de Venda` , \",\", \".\") as `Valor de Venda`,            \n",
    "            `Unidade de Medida` \n",
    "        from combustiveis\n",
    "    \"\"\")\n",
    ")"
   ]
  },
  {
   "cell_type": "code",
   "execution_count": 30,
   "id": "37f13624-e1e9-4393-8578-19d458f5487b",
   "metadata": {},
   "outputs": [
    {
     "name": "stdout",
     "output_type": "stream",
     "text": [
      "+--------------+--------+--------------+-----------------+\n",
      "|Estado - Sigla| Produto|Valor de Venda|Unidade de Medida|\n",
      "+--------------+--------+--------------+-----------------+\n",
      "|            SP|GASOLINA|          5.65|       R$ / litro|\n",
      "|            SP|  ETANOL|          3.78|       R$ / litro|\n",
      "|            AL|GASOLINA|          6.49|       R$ / litro|\n",
      "|            AL|  ETANOL|          4.99|       R$ / litro|\n",
      "|            AL|GASOLINA|          6.49|       R$ / litro|\n",
      "+--------------+--------+--------------+-----------------+\n",
      "only showing top 5 rows\n",
      "\n"
     ]
    }
   ],
   "source": [
    "view_precos.createOrReplaceTempView('view_precos')\n",
    "view_precos.show(5)"
   ]
  },
  {
   "cell_type": "code",
   "execution_count": 38,
   "id": "f764f12b-53f0-450d-bd62-9d5805919a19",
   "metadata": {},
   "outputs": [],
   "source": [
    "df_diferenca_precos = spark.sql(\"\"\"\n",
    "    select\n",
    "        `Estado - Sigla`,\n",
    "        `Produto`,\n",
    "        `Unidade de Medida`,\n",
    "        MIN(`Valor de Venda`) as menor_valor, \n",
    "        MAX(`Valor de Venda`) as maior_valor,\n",
    "        MAX(`Valor de Venda`) - MIN(`Valor de Venda`) as diferenca \n",
    "    from view_precos\n",
    "    group by all\n",
    "    order by diferenca DESC\n",
    "\"\"\")"
   ]
  },
  {
   "cell_type": "code",
   "execution_count": 39,
   "id": "96352f3b-865b-40c1-a818-199193b549c3",
   "metadata": {},
   "outputs": [
    {
     "name": "stderr",
     "output_type": "stream",
     "text": [
      "[Stage 12:>                                                         (0 + 1) / 1]"
     ]
    },
    {
     "name": "stdout",
     "output_type": "stream",
     "text": [
      "+--------------+------------------+-----------------+-----------+-----------+------------------+\n",
      "|Estado - Sigla|           Produto|Unidade de Medida|menor_valor|maior_valor|         diferenca|\n",
      "+--------------+------------------+-----------------+-----------+-----------+------------------+\n",
      "|            SP|GASOLINA ADITIVADA|       R$ / litro|       5.39|       8.99|3.6000000000000005|\n",
      "|            SP|          GASOLINA|       R$ / litro|       5.19|       8.79|3.5999999999999988|\n",
      "|            RS|            ETANOL|       R$ / litro|       3.49|       6.28|              2.79|\n",
      "|            SP|            ETANOL|       R$ / litro|       3.25|       5.99|              2.74|\n",
      "|            PE|            ETANOL|       R$ / litro|       3.99|       6.49|               2.5|\n",
      "+--------------+------------------+-----------------+-----------+-----------+------------------+\n",
      "only showing top 5 rows\n",
      "\n"
     ]
    },
    {
     "name": "stderr",
     "output_type": "stream",
     "text": [
      "                                                                                "
     ]
    }
   ],
   "source": [
    "df_diferenca_precos.show(5)"
   ]
  },
  {
   "cell_type": "code",
   "execution_count": null,
   "id": "45385d68-947c-4a9a-b9c8-b67dcac80628",
   "metadata": {},
   "outputs": [],
   "source": []
  }
 ],
 "metadata": {
  "kernelspec": {
   "display_name": "Python 3 (ipykernel)",
   "language": "python",
   "name": "python3"
  },
  "language_info": {
   "codemirror_mode": {
    "name": "ipython",
    "version": 3
   },
   "file_extension": ".py",
   "mimetype": "text/x-python",
   "name": "python",
   "nbconvert_exporter": "python",
   "pygments_lexer": "ipython3",
   "version": "3.12.3"
  }
 },
 "nbformat": 4,
 "nbformat_minor": 5
}
